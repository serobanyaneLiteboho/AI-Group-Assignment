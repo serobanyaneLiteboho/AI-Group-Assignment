{
 "cells": [
  {
   "cell_type": "code",
   "execution_count": 1,
   "id": "975b4743",
   "metadata": {},
   "outputs": [],
   "source": [
    "import numpy as np\n",
    "import pandas as pd\n",
    "import matplotlib.pyplot as plt\n",
    "from sklearn.model_selection import train_test_split\n",
    "from sklearn.preprocessing import StandardScaler\n",
    "import seaborn as sns\n",
    "import ipywidgets as wg\n",
    "\n"
   ]
  },
  {
   "cell_type": "code",
   "execution_count": 2,
   "id": "4e4fd43d",
   "metadata": {},
   "outputs": [],
   "source": [
    "data = pd.read_csv(\"diabetes.csv\")\n"
   ]
  },
  {
   "cell_type": "code",
   "execution_count": 3,
   "id": "9c1acb91",
   "metadata": {},
   "outputs": [
    {
     "data": {
      "text/html": [
       "<div>\n",
       "<style scoped>\n",
       "    .dataframe tbody tr th:only-of-type {\n",
       "        vertical-align: middle;\n",
       "    }\n",
       "\n",
       "    .dataframe tbody tr th {\n",
       "        vertical-align: top;\n",
       "    }\n",
       "\n",
       "    .dataframe thead th {\n",
       "        text-align: right;\n",
       "    }\n",
       "</style>\n",
       "<table border=\"1\" class=\"dataframe\">\n",
       "  <thead>\n",
       "    <tr style=\"text-align: right;\">\n",
       "      <th></th>\n",
       "      <th>Pregnancies</th>\n",
       "      <th>Glucose</th>\n",
       "      <th>BloodPressure</th>\n",
       "      <th>SkinThickness</th>\n",
       "      <th>Insulin</th>\n",
       "      <th>BMI</th>\n",
       "      <th>DiabetesPedigreeFunction</th>\n",
       "      <th>Age</th>\n",
       "      <th>Outcome</th>\n",
       "    </tr>\n",
       "  </thead>\n",
       "  <tbody>\n",
       "    <tr>\n",
       "      <th>0</th>\n",
       "      <td>6</td>\n",
       "      <td>148</td>\n",
       "      <td>72</td>\n",
       "      <td>35</td>\n",
       "      <td>0</td>\n",
       "      <td>33.6</td>\n",
       "      <td>0.627</td>\n",
       "      <td>50</td>\n",
       "      <td>1</td>\n",
       "    </tr>\n",
       "    <tr>\n",
       "      <th>1</th>\n",
       "      <td>1</td>\n",
       "      <td>85</td>\n",
       "      <td>66</td>\n",
       "      <td>29</td>\n",
       "      <td>0</td>\n",
       "      <td>26.6</td>\n",
       "      <td>0.351</td>\n",
       "      <td>31</td>\n",
       "      <td>0</td>\n",
       "    </tr>\n",
       "    <tr>\n",
       "      <th>2</th>\n",
       "      <td>8</td>\n",
       "      <td>183</td>\n",
       "      <td>64</td>\n",
       "      <td>0</td>\n",
       "      <td>0</td>\n",
       "      <td>23.3</td>\n",
       "      <td>0.672</td>\n",
       "      <td>32</td>\n",
       "      <td>1</td>\n",
       "    </tr>\n",
       "    <tr>\n",
       "      <th>3</th>\n",
       "      <td>1</td>\n",
       "      <td>89</td>\n",
       "      <td>66</td>\n",
       "      <td>23</td>\n",
       "      <td>94</td>\n",
       "      <td>28.1</td>\n",
       "      <td>0.167</td>\n",
       "      <td>21</td>\n",
       "      <td>0</td>\n",
       "    </tr>\n",
       "    <tr>\n",
       "      <th>4</th>\n",
       "      <td>0</td>\n",
       "      <td>137</td>\n",
       "      <td>40</td>\n",
       "      <td>35</td>\n",
       "      <td>168</td>\n",
       "      <td>43.1</td>\n",
       "      <td>2.288</td>\n",
       "      <td>33</td>\n",
       "      <td>1</td>\n",
       "    </tr>\n",
       "  </tbody>\n",
       "</table>\n",
       "</div>"
      ],
      "text/plain": [
       "   Pregnancies  Glucose  BloodPressure  SkinThickness  Insulin   BMI  \\\n",
       "0            6      148             72             35        0  33.6   \n",
       "1            1       85             66             29        0  26.6   \n",
       "2            8      183             64              0        0  23.3   \n",
       "3            1       89             66             23       94  28.1   \n",
       "4            0      137             40             35      168  43.1   \n",
       "\n",
       "   DiabetesPedigreeFunction  Age  Outcome  \n",
       "0                     0.627   50        1  \n",
       "1                     0.351   31        0  \n",
       "2                     0.672   32        1  \n",
       "3                     0.167   21        0  \n",
       "4                     2.288   33        1  "
      ]
     },
     "execution_count": 3,
     "metadata": {},
     "output_type": "execute_result"
    }
   ],
   "source": [
    "data.head()"
   ]
  },
  {
   "cell_type": "code",
   "execution_count": 4,
   "id": "bc20dc8a",
   "metadata": {},
   "outputs": [
    {
     "data": {
      "text/plain": [
       "(768, 9)"
      ]
     },
     "execution_count": 4,
     "metadata": {},
     "output_type": "execute_result"
    }
   ],
   "source": [
    "data.shape"
   ]
  },
  {
   "cell_type": "code",
   "execution_count": 5,
   "id": "2b58964c",
   "metadata": {},
   "outputs": [
    {
     "data": {
      "text/plain": [
       "0    500\n",
       "1    268\n",
       "Name: Outcome, dtype: int64"
      ]
     },
     "execution_count": 5,
     "metadata": {},
     "output_type": "execute_result"
    }
   ],
   "source": [
    "data['Outcome'].value_counts()"
   ]
  },
  {
   "cell_type": "code",
   "execution_count": 6,
   "id": "6bab7f0e",
   "metadata": {},
   "outputs": [
    {
     "name": "stderr",
     "output_type": "stream",
     "text": [
      "C:\\ProgramData\\Anaconda3\\lib\\site-packages\\seaborn\\_decorators.py:36: FutureWarning: Pass the following variable as a keyword arg: x. From version 0.12, the only valid positional argument will be `data`, and passing other arguments without an explicit keyword will result in an error or misinterpretation.\n",
      "  warnings.warn(\n"
     ]
    },
    {
     "data": {
      "text/plain": [
       "<AxesSubplot:xlabel='Outcome', ylabel='count'>"
      ]
     },
     "execution_count": 6,
     "metadata": {},
     "output_type": "execute_result"
    },
    {
     "data": {
      "image/png": "[encoded data removed]",
      "text/plain": [
       "<Figure size 432x288 with 1 Axes>"
      ]
     },
     "metadata": {
      "needs_background": "light"
     },
     "output_type": "display_data"
    }
   ],
   "source": [
    "# Outcome graph\n",
    "sns.countplot(data['Outcome'])"
   ]
  },
  {
   "cell_type": "code",
   "execution_count": 7,
   "id": "ab22d54a",
   "metadata": {},
   "outputs": [
    {
     "data": {
      "text/plain": [
       "<AxesSubplot:>"
      ]
     },
     "execution_count": 7,
     "metadata": {},
     "output_type": "execute_result"
    },
    {
     "data": {
      "image/png": "[encoded data removed]",
      "text/plain": [
       "<Figure size 504x504 with 2 Axes>"
      ]
     },
     "metadata": {
      "needs_background": "light"
     },
     "output_type": "display_data"
    }
   ],
   "source": [
    "# correlation\n",
    "plt.figure(figsize=(7,7))\n",
    "sns.heatmap(data.corr(),annot=True, fmt='.0%')"
   ]
  },
  {
   "cell_type": "code",
   "execution_count": 8,
   "id": "6ecf7e09",
   "metadata": {},
   "outputs": [],
   "source": [
    "X = data.iloc[:, : -1].values\n",
    "Y = data.iloc[:, -1].values\n",
    "\n",
    "\n"
   ]
  },
  {
   "cell_type": "code",
   "execution_count": 9,
   "id": "576cb90f",
   "metadata": {},
   "outputs": [],
   "source": [
    "X_train, X_test, Y_train, Y_test = train_test_split(X, Y, test_size= 0.2, random_state = 1)"
   ]
  },
  {
   "cell_type": "code",
   "execution_count": 10,
   "id": "456971f8",
   "metadata": {},
   "outputs": [
    {
     "data": {
      "text/plain": [
       "array([[  9.   , 145.   ,  80.   , ...,  37.9  ,   0.637,  40.   ],\n",
       "       [ 10.   , 129.   ,  62.   , ...,  41.2  ,   0.441,  38.   ],\n",
       "       [  7.   , 102.   ,  74.   , ...,  37.2  ,   0.204,  45.   ],\n",
       "       ...,\n",
       "       [ 13.   , 126.   ,  90.   , ...,  43.4  ,   0.583,  42.   ],\n",
       "       [  4.   , 171.   ,  72.   , ...,  43.6  ,   0.479,  26.   ],\n",
       "       [  9.   , 102.   ,  76.   , ...,  32.9  ,   0.665,  46.   ]])"
      ]
     },
     "execution_count": 10,
     "metadata": {},
     "output_type": "execute_result"
    }
   ],
   "source": [
    "\n",
    "input_value = np.array(X_train)\n",
    "X_train\n",
    "\n"
   ]
  },
  {
   "cell_type": "code",
   "execution_count": 11,
   "id": "754e9939",
   "metadata": {},
   "outputs": [
    {
     "data": {
      "text/plain": [
       "(614, 8)"
      ]
     },
     "execution_count": 11,
     "metadata": {},
     "output_type": "execute_result"
    }
   ],
   "source": [
    "input_value.shape"
   ]
  },
  {
   "cell_type": "code",
   "execution_count": 12,
   "id": "30af526a",
   "metadata": {},
   "outputs": [
    {
     "data": {
      "text/plain": [
       "(614, 1)"
      ]
     },
     "execution_count": 12,
     "metadata": {},
     "output_type": "execute_result"
    }
   ],
   "source": [
    "output = np.array(Y_train)\n",
    "output = output.reshape(614,1)\n",
    "output.shape"
   ]
  },
  {
   "cell_type": "code",
   "execution_count": 13,
   "id": "2519148f",
   "metadata": {},
   "outputs": [
    {
     "data": {
      "text/plain": [
       "array([[0.2],\n",
       "       [0.1],\n",
       "       [0.1],\n",
       "       [0.2],\n",
       "       [0.1],\n",
       "       [0.2],\n",
       "       [0.1],\n",
       "       [0.2]])"
      ]
     },
     "execution_count": 13,
     "metadata": {},
     "output_type": "execute_result"
    }
   ],
   "source": [
    "# assigning random weights values to each feature at first run\n",
    "weights = np.array([[0.2],[0.1],[0.1],[0.2],[0.1],[0.2],[0.1],[0.2]])\n",
    "weights"
   ]
  },
  {
   "cell_type": "code",
   "execution_count": 14,
   "id": "4666aa3a",
   "metadata": {},
   "outputs": [],
   "source": [
    "# the sigmoid function to ensure that the output falls in between 0 and 1\n",
    "def sigmoid_func(x):\n",
    "    return 1/(1+np.exp(-x))\n",
    "      "
   ]
  },
  {
   "cell_type": "code",
   "execution_count": 15,
   "id": "74deb2f3",
   "metadata": {},
   "outputs": [],
   "source": [
    "def deriv(x):\n",
    "    return sigmoid_func(x) * (1- sigmoid_func(x))\n",
    "    "
   ]
  },
  {
   "cell_type": "code",
   "execution_count": 16,
   "id": "1f5b66ee",
   "metadata": {},
   "outputs": [],
   "source": [
    "bias =0.03"
   ]
  },
  {
   "cell_type": "code",
   "execution_count": 27,
   "id": "3f08f521",
   "metadata": {},
   "outputs": [
    {
     "name": "stdout",
     "output_type": "stream",
     "text": [
      "[[1383.70882733]\n",
      " [ 196.54334114]\n",
      " [-787.754036  ]\n",
      " [-202.34477406]\n",
      " [  53.66419201]\n",
      " [-451.98364485]\n",
      " [  29.68279518]\n",
      " [ -68.1844945 ]]\n",
      "[-2908.44844859]\n"
     ]
    }
   ],
   "source": [
    "# the code needs to run 1000 times to get less error rate \n",
    "for epochs in range(1000):\n",
    "    input_arr = input_value\n",
    "    weighted_sum = np.dot(input_arr, weights)+ bias\n",
    "    first_output = sigmoid_func(weighted_sum)\n",
    "    \n",
    "#   calculating the error value\n",
    "\n",
    "    error = first_output - output\n",
    "    total_error = np.square(np.subtract(first_output,output)).mean()\n",
    "    \n",
    "    first_der = error\n",
    "    second_der = deriv(first_output)\n",
    "    derivative = first_der * second_der\n",
    "    \n",
    "    t_input = input_value.T\n",
    "    final_derivative = np.dot(t_input, derivative)\n",
    "# updating weights\n",
    "    weights = weights - 0.05 * final_derivative\n",
    "    \n",
    "# updating bias    \n",
    "    for i in derivative:\n",
    "        bias = bias - 0.5 * i\n",
    "np.warnings.filterwarnings('ignore','(overflow|invalid)')\n",
    "print(weights)\n",
    "print(bias)\n"
   ]
  },
  {
   "cell_type": "code",
   "execution_count": 32,
   "id": "c994b69d",
   "metadata": {},
   "outputs": [
    {
     "name": "stdout",
     "output_type": "stream",
     "text": [
      "[[0.]\n",
      " [0.]\n",
      " [0.]\n",
      " [0.]\n",
      " [0.]\n",
      " [0.]\n",
      " [0.]\n",
      " [0.]\n",
      " [0.]\n",
      " [0.]\n",
      " [0.]\n",
      " [0.]\n",
      " [0.]\n",
      " [0.]\n",
      " [0.]\n",
      " [0.]\n",
      " [0.]\n",
      " [0.]\n",
      " [1.]\n",
      " [0.]\n",
      " [0.]\n",
      " [0.]\n",
      " [0.]\n",
      " [0.]\n",
      " [0.]\n",
      " [0.]\n",
      " [0.]\n",
      " [0.]\n",
      " [0.]\n",
      " [0.]\n",
      " [0.]\n",
      " [1.]\n",
      " [0.]\n",
      " [0.]\n",
      " [0.]\n",
      " [0.]\n",
      " [0.]\n",
      " [0.]\n",
      " [0.]\n",
      " [0.]\n",
      " [0.]\n",
      " [0.]\n",
      " [0.]\n",
      " [0.]\n",
      " [0.]\n",
      " [0.]\n",
      " [0.]\n",
      " [0.]\n",
      " [0.]\n",
      " [0.]\n",
      " [1.]\n",
      " [0.]\n",
      " [0.]\n",
      " [0.]\n",
      " [0.]\n",
      " [0.]\n",
      " [1.]\n",
      " [0.]\n",
      " [0.]\n",
      " [0.]\n",
      " [0.]\n",
      " [1.]\n",
      " [0.]\n",
      " [0.]\n",
      " [0.]\n",
      " [0.]\n",
      " [0.]\n",
      " [0.]\n",
      " [0.]\n",
      " [0.]\n",
      " [0.]\n",
      " [0.]\n",
      " [0.]\n",
      " [0.]\n",
      " [0.]\n",
      " [0.]\n",
      " [0.]\n",
      " [0.]\n",
      " [0.]\n",
      " [0.]\n",
      " [0.]\n",
      " [0.]\n",
      " [0.]\n",
      " [0.]\n",
      " [0.]\n",
      " [0.]\n",
      " [0.]\n",
      " [0.]\n",
      " [0.]\n",
      " [0.]\n",
      " [0.]\n",
      " [0.]\n",
      " [0.]\n",
      " [0.]\n",
      " [0.]\n",
      " [0.]\n",
      " [0.]\n",
      " [0.]\n",
      " [0.]\n",
      " [0.]\n",
      " [0.]\n",
      " [0.]\n",
      " [0.]\n",
      " [0.]\n",
      " [0.]\n",
      " [0.]\n",
      " [0.]\n",
      " [0.]\n",
      " [0.]\n",
      " [0.]\n",
      " [0.]\n",
      " [0.]\n",
      " [0.]\n",
      " [0.]\n",
      " [0.]\n",
      " [0.]\n",
      " [0.]\n",
      " [0.]\n",
      " [0.]\n",
      " [0.]\n",
      " [0.]\n",
      " [0.]\n",
      " [0.]\n",
      " [0.]\n",
      " [0.]\n",
      " [0.]\n",
      " [0.]\n",
      " [0.]\n",
      " [0.]\n",
      " [0.]\n",
      " [0.]\n",
      " [0.]\n",
      " [0.]\n",
      " [0.]\n",
      " [0.]\n",
      " [0.]\n",
      " [0.]\n",
      " [0.]\n",
      " [0.]\n",
      " [0.]\n",
      " [0.]\n",
      " [0.]\n",
      " [0.]\n",
      " [0.]\n",
      " [0.]\n",
      " [0.]\n",
      " [0.]\n",
      " [0.]\n",
      " [0.]\n",
      " [0.]\n",
      " [0.]\n",
      " [0.]\n",
      " [0.]\n",
      " [1.]]\n"
     ]
    }
   ],
   "source": [
    "pred = np.array(X_test)\n",
    "result = np.dot(pred , weights) + bias\n",
    "res = sigmoid_func(result)\n",
    "print(res)\n",
    "\n"
   ]
  },
  {
   "cell_type": "code",
   "execution_count": 19,
   "id": "68530433",
   "metadata": {},
   "outputs": [],
   "source": [
    "# drawing a sigmoid function graphs with X_test values\n",
    "out = sigmoid_func(pred)\n",
    "plt.plot(pred,out)\n",
    "plt.xlabel(\"input\")\n",
    "plt.ylabel(\"output\")\n"
   ]
  },
  {
   "cell_type": "code",
   "execution_count": 20,
   "id": "fb0e5e45",
   "metadata": {},
   "outputs": [
    {
     "name": "stdout",
     "output_type": "stream",
     "text": [
      "Please enter the number of record you want to see:\n",
      "5\n"
     ]
    },
    {
     "data": {
      "application/vnd.jupyter.widget-view+json": {
       "model_id": "f1fc820f65cf41778d946da1b1bc2fea",
       "version_major": 2,
       "version_minor": 0
      },
      "text/plain": [
       "Button(description='View Records', style=ButtonStyle())"
      ]
     },
     "metadata": {},
     "output_type": "display_data"
    }
   ],
   "source": [
    "# Asking the user to key in the number of records he/she wants to see \n",
    "value = input(\"Please enter the number of record you want to see:\\n\")\n",
    "value = int(value)\n",
    "\n",
    "#button to view all the first n records \n",
    "button = wg.Button(description = \"View Records\")\n",
    "display(button)\n",
    "\n",
    "#function to be called by the button when clicked to view n recored inputed by user\n",
    "def on_button_clicked(val):\n",
    "    val = data.head(value)\n",
    "    display(val)\n",
    "button.on_click(on_button_clicked)\n",
    "\n"
   ]
  },
  {
   "cell_type": "code",
   "execution_count": 33,
   "id": "504697a6",
   "metadata": {
    "scrolled": true
   },
   "outputs": [
    {
     "name": "stdout",
     "output_type": "stream",
     "text": [
      "Please enter the number of pregnacies:\n",
      "5\n",
      "Please enter the number of Glucose:\n",
      "5\n",
      "Please enter the number of BloodPressure:\n",
      "5\n",
      "Please enter the number of skinThickness:\n",
      "5\n",
      "Please enter the number of insulin:\n",
      "5\n",
      "Please enter the number of BMI :\n",
      "5\n",
      "Please enter the number of DiabetesPedigreeFunction:\n",
      "5\n",
      "Please enter the number of age:\n",
      "5\n"
     ]
    },
    {
     "data": {
      "application/vnd.jupyter.widget-view+json": {
       "model_id": "e91202358c614a51899bc6ac09d66c9d",
       "version_major": 2,
       "version_minor": 0
      },
      "text/plain": [
       "Button(description='send Data', style=ButtonStyle())"
      ]
     },
     "metadata": {},
     "output_type": "display_data"
    },
    {
     "name": "stdout",
     "output_type": "stream",
     "text": [
      "Please confirm all your values below:\n",
      "\n"
     ]
    },
    {
     "data": {
      "text/html": [
       "<div>\n",
       "<style scoped>\n",
       "    .dataframe tbody tr th:only-of-type {\n",
       "        vertical-align: middle;\n",
       "    }\n",
       "\n",
       "    .dataframe tbody tr th {\n",
       "        vertical-align: top;\n",
       "    }\n",
       "\n",
       "    .dataframe thead th {\n",
       "        text-align: right;\n",
       "    }\n",
       "</style>\n",
       "<table border=\"1\" class=\"dataframe\">\n",
       "  <thead>\n",
       "    <tr style=\"text-align: right;\">\n",
       "      <th></th>\n",
       "      <th>Pregnancies</th>\n",
       "      <th>Glucose</th>\n",
       "      <th>BloodPressure</th>\n",
       "      <th>skinThickness</th>\n",
       "      <th>insulin</th>\n",
       "      <th>BMI</th>\n",
       "      <th>DiabetesPedigreeFunction</th>\n",
       "      <th>age</th>\n",
       "    </tr>\n",
       "  </thead>\n",
       "  <tbody>\n",
       "    <tr>\n",
       "      <th>0</th>\n",
       "      <td>5</td>\n",
       "      <td>5</td>\n",
       "      <td>5</td>\n",
       "      <td>5</td>\n",
       "      <td>5</td>\n",
       "      <td>5.0</td>\n",
       "      <td>5.0</td>\n",
       "      <td>5</td>\n",
       "    </tr>\n",
       "  </tbody>\n",
       "</table>\n",
       "</div>"
      ],
      "text/plain": [
       "   Pregnancies  Glucose  BloodPressure  skinThickness  insulin  BMI  \\\n",
       "0            5        5              5              5        5  5.0   \n",
       "\n",
       "   DiabetesPedigreeFunction  age  \n",
       "0                       5.0    5  "
      ]
     },
     "metadata": {},
     "output_type": "display_data"
    },
    {
     "name": "stdout",
     "output_type": "stream",
     "text": [
      "Your result is [0.] therefore you are:\n",
      "Non-diabitic\n"
     ]
    }
   ],
   "source": [
    "# asking the user to input the features\n",
    "Pregnancies = input(\"Please enter the number of pregnacies:\\n\")\n",
    "Pregnancies = int(Pregnancies)\n",
    "\n",
    "Glucose = input(\"Please enter the number of Glucose:\\n\")\n",
    "Glucose = int(Glucose)\n",
    "\n",
    "BloodPressure = input(\"Please enter the number of BloodPressure:\\n\")\n",
    "BloodPressure = int(BloodPressure)\n",
    "\n",
    "skinThickness = input(\"Please enter the number of skinThickness:\\n\")\n",
    "skinThickness = int(skinThickness)\n",
    "\n",
    "insulin = input(\"Please enter the number of insulin:\\n\")\n",
    "insulin = int(insulin)\n",
    "\n",
    "BMI = input(\"Please enter the number of BMI :\\n\")\n",
    "BMI = float(BMI)\n",
    "\n",
    "DiabetesPedigreeFunction = input(\"Please enter the number of DiabetesPedigreeFunction:\\n\")\n",
    "DiabetesPedigreeFunction = float(DiabetesPedigreeFunction)\n",
    "\n",
    "age = input(\"Please enter the number of age:\\n\")\n",
    "age = int(age)\n",
    "\n",
    "# button to display the user results \n",
    "button = wg.Button(description =\"send Data\")\n",
    "\n",
    "\n",
    "display(button)\n",
    "\n",
    "# inserting all user inputs in an array\n",
    "user_inputs = [Pregnancies,Glucose,BloodPressure,skinThickness,insulin,BMI,DiabetesPedigreeFunction,age]\n",
    "\n",
    "# making a table to show the user his/her inputs \n",
    "value1 =[Pregnancies]\n",
    "value2=[Glucose]\n",
    "value3=[BloodPressure]\n",
    "value4=[skinThickness]\n",
    "value5=[insulin]\n",
    "value6=[BMI]\n",
    "value7=[DiabetesPedigreeFunction]\n",
    "value8=[age]\n",
    "user_info = pd.DataFrame({'Pregnancies':value1,'Glucose':value2,'BloodPressure':value3,'skinThickness':value4,'insulin':value5,\n",
    "                          'BMI':value6,'DiabetesPedigreeFunction':value7,'age':value8})\n",
    "\n",
    "# function to be caled by the send data buton to print the user results\n",
    "def on_button_clicked(b):\n",
    "    pred = np.array(user_inputs)\n",
    "    result = np.dot(pred , weights) + bias\n",
    "    res = sigmoid_func(result)\n",
    "    print(\"Please confirm all your values below:\\n\")\n",
    "    display(user_info)\n",
    "    print(\"Your result is {}\".format(res)+\" therefore you are:\")\n",
    "    if res >= 0.5:\n",
    "        print(\"diabitic\")      \n",
    "    else:\n",
    "        print(\"Non-diabitic\")\n",
    "button.on_click(on_button_clicked)\n",
    "\n"
   ]
  },
  {
   "cell_type": "markdown",
   "id": "62b77692",
   "metadata": {},
   "source": [
    "##### "
   ]
  }
 ],
 "metadata": {
  "kernelspec": {
   "display_name": "Python 3",
   "language": "python",
   "name": "python3"
  },
  "language_info": {
   "codemirror_mode": {
    "name": "ipython",
    "version": 3
   },
   "file_extension": ".py",
   "mimetype": "text/x-python",
   "name": "python",
   "nbconvert_exporter": "python",
   "pygments_lexer": "ipython3",
   "version": "3.8.8"
  }
 },
 "nbformat": 4,
 "nbformat_minor": 5
}
